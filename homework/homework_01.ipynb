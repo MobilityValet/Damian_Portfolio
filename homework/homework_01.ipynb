{
  "nbformat": 4,
  "nbformat_minor": 0,
  "metadata": {
    "kernelspec": {
      "display_name": "Python 3",
      "language": "python",
      "name": "python3"
    },
    "language_info": {
      "codemirror_mode": {
        "name": "ipython",
        "version": 3
      },
      "file_extension": ".py",
      "mimetype": "text/x-python",
      "name": "python",
      "nbconvert_exporter": "python",
      "pygments_lexer": "ipython3",
      "version": "3.8.8"
    },
    "colab": {
      "name": "homework_01.ipynb",
      "provenance": [],
      "include_colab_link": true
    }
  },
  "cells": [
    {
      "cell_type": "markdown",
      "metadata": {
        "id": "view-in-github",
        "colab_type": "text"
      },
      "source": [
        "<a href=\"https://colab.research.google.com/github/dam-ham/Damian_Portfolio/blob/main/homework/homework_01.ipynb\" target=\"_parent\"><img src=\"https://colab.research.google.com/assets/colab-badge.svg\" alt=\"Open In Colab\"/></a>"
      ]
    },
    {
      "cell_type": "markdown",
      "metadata": {
        "id": "FPx6ZttBug6b"
      },
      "source": [
        "# Homework 1\n",
        "\n",
        "## References\n",
        "\n",
        "+ Lectures 1-2 (inclusive).\n",
        "\n",
        "## Instructions\n",
        "\n",
        "+ Type your name and email in the \"Student details\" section below.\n",
        "+ Develop the code and generate the figures you need to solve the problems using this notebook.\n",
        "+ For the answers that require a mathematical proof or derivation you can either:\n",
        "    \n",
        "    - Type the answer using the built-in latex capabilities. In this case, simply export the notebook as a pdf and upload it on gradescope; or\n",
        "    - You can print the notebook (after you are done with all the code), write your answers by hand, scan, turn your response to a single pdf, and upload on gradescope.\n",
        "\n",
        "+ The total homework points are 100. Please note that the problems are not weighed equally.\n",
        "\n",
        "**Note**: Please match all the pages corresponding to each of the questions when you submit on gradescope."
      ]
    },
    {
      "cell_type": "code",
      "metadata": {
        "id": "XlC83fm7ug6d"
      },
      "source": [
        "%matplotlib inline\n",
        "import matplotlib.pyplot as plt\n",
        "import seaborn as sns\n",
        "sns.set_context('paper')\n",
        "import numpy as np"
      ],
      "execution_count": null,
      "outputs": []
    },
    {
      "cell_type": "markdown",
      "metadata": {
        "id": "EL6NIg8iug6e"
      },
      "source": [
        "## Student details\n",
        "\n",
        "+ **First Name:** Damian\n",
        "+ **Last Name:** Hamielec\n",
        "+ **Email:** dhamiele@purdue.edu"
      ]
    },
    {
      "cell_type": "markdown",
      "metadata": {
        "id": "d4Aks5ZYug6e"
      },
      "source": [
        "## Problem 1\n",
        "\n",
        "This exercise demonstrates that probability theory is actually an extension of logic. Assume that you know that ``A implies B\". That is, your prior information is:\n",
        "$$\n",
        "I = \\{A \\implies B\\}.\n",
        "$$\n",
        "Please answer the following questions in the space provided:\n",
        "\n",
        "A. (4 points) $p(AB|I) = p(A|I)$.<br>\n",
        "**Proof:**\n",
        "<br><br><br><br><br><br><br><br>"
      ]
    },
    {
      "cell_type": "markdown",
      "metadata": {
        "id": "9hfftGmyug6f"
      },
      "source": [
        "B. If $p(A|I) = 1$, then $p(B|I) = 1$.<br>\n",
        "**Proof:**\n",
        "<br><br><br><br><br><br><br><br>"
      ]
    },
    {
      "cell_type": "markdown",
      "metadata": {
        "id": "GvW1odQOug6f"
      },
      "source": [
        "C. If $p(B|I) = 0$, then $p(A|I) = 0$.<br>\n",
        "**Proof:**\n",
        "<br><br><br><br><br><br><br><br>"
      ]
    },
    {
      "cell_type": "markdown",
      "metadata": {
        "id": "XSZ4Gchrug6g"
      },
      "source": [
        "D. B and C show that probability theory is consistent with Aristotelian logic. Now, you will discover how it extends it. Show that if B is true, then A becomes more plausible, i.e.\n",
        "$$\n",
        "p(A|BI) \\geq p(A|I).\n",
        "$$\n",
        "**Proof:**\n",
        "<br><br><br><br><br><br><br><br>"
      ]
    },
    {
      "cell_type": "markdown",
      "metadata": {
        "id": "cGTXBC3Mug6g"
      },
      "source": [
        "E. Give at least two examples of D that apply to various scientific fields. To get you started, here are two examples:\n",
        "\n",
        "- $A$: It is raining. $B$: There are clouds in the sky. Clearly,  $A \\implies B$. $D$ tells us that if there are clouds in the sky, raining becomes more plausible.\n",
        "    \n",
        "- $A$: General relativity. $B$: Light is deflected in the presence of massive bodies. Here  $A \\implies B$. Observing that $B$ is true makes $A$ more plausible.\n",
        "\n",
        "**Answer:**\n",
        "\n",
        "- $A$: <br><br>\n",
        "  $B$: <br><br>\n",
        "  \n",
        "- $A$: <br><br>\n",
        "  $B$: <br><br>"
      ]
    },
    {
      "cell_type": "markdown",
      "metadata": {
        "id": "EwXogt1Cug6h"
      },
      "source": [
        "F. Show that if $A$ is false, then $B$ becomes less plausible, i.e.: \n",
        "$$\n",
        "p(B|\\neg AI) \\leq p(B|I).\n",
        "$$\n",
        "**Proof:**\n",
        "<br><br><br><br><br><br><br><br>"
      ]
    },
    {
      "cell_type": "markdown",
      "metadata": {
        "id": "lHFHUcCTug6h"
      },
      "source": [
        "G. Can you think of an example of scientific reasoning that involves F? For example:\n",
        "$A$: It is raining. $B$: There are clouds in the sky. F tells us that if it is not raining, then it is less plausible that there are clouds in the sky.<br>\n",
        "**Answer:**\n",
        "<br><br><br><br><br><br><br><br>"
      ]
    },
    {
      "cell_type": "markdown",
      "metadata": {
        "id": "1yeAzC1Nug6i"
      },
      "source": [
        "H. Do D and F contradict Karl Popper's [principle of falsification](https://en.wikipedia.org/wiki/Falsifiability), \"A theory in the empirical sciences can never be proven, but it can be falsified, meaning that it can and should be scrutinized by decisive experiments.\"<br>\n",
        "**Answer:**\n",
        "<br><br><br><br><br><br><br><br>"
      ]
    },
    {
      "cell_type": "markdown",
      "metadata": {
        "id": "iZKsYOphug6i"
      },
      "source": [
        "## Problem 2\n",
        "\n",
        "Disclaimer: This example is a modified version of the one found in a 2013 lecture on Bayesian Scientific Computing taught by Prof. Nicholas Zabaras.\n",
        "I am not sure where the original problem is coming from.\n",
        "\n",
        "We are tasked with assessing the usefulness of a tuberculosis test.\n",
        "The prior information I is:\n",
        "\n",
        "> The percentage of the population infected by tuberculosis is 0.4\\%.\n",
        "We have run several experiments and determined that:\n",
        "+ If a tested patient has the disease, then 80\\% of the time the test comes out positive.\n",
        "+ If a tested patient does not have the disease, then 90\\% of the time the test comes out negative.\n",
        "\n",
        "To facilitate your analysis, consider the following logical sentences concerning a patient:\n",
        "\n",
        "> A: The patient is tested and the test is positive.\n",
        "\n",
        "> B: The patient has tuberculosis.\n",
        "\n",
        "A. Find the probability that the patient has tuberculosis (before looking at the result of the test), i.e., $p(B|I)$. This is known as the base rate or the prior probability.<br>\n",
        "**Answer:**\n",
        "<br><br><br><br><br><br><br><br>"
      ]
    },
    {
      "cell_type": "markdown",
      "metadata": {
        "id": "hS0hb3AKug6i"
      },
      "source": [
        "B. Find the probability that the test is positive given that the patient has tuberculosis, i.e., $p(A|B,I)$.<br>\n",
        "**Answer:**\n",
        "<br><br><br><br><br><br><br><br>"
      ]
    },
    {
      "cell_type": "markdown",
      "metadata": {
        "id": "iBdhXnD2ug6i"
      },
      "source": [
        "C. Find the probability that the test is positive given that the patient does not have tuberculosis, i.e., $p(A|\\neg B, I)$.<br>\n",
        "**Answer:**\n",
        "<br><br><br><br><br><br><br><br>"
      ]
    },
    {
      "cell_type": "markdown",
      "metadata": {
        "id": "bN2to9CGug6j"
      },
      "source": [
        "D. Find the probability that a patient that tested positive has tuberculosis, i.e., $p(B|A,I)$.<br>\n",
        "**Answer:**\n",
        "<br><br><br><br><br><br><br><br>"
      ]
    },
    {
      "cell_type": "markdown",
      "metadata": {
        "id": "jQfb9DqIug6j"
      },
      "source": [
        "E. Find the probability that a patient that tested negative has tuberculosis, i.e., $p(B|\\neg A, I)$. Does the test change our prior state of knowledge about about the patient? Is the test useful?<br>\n",
        "**Answer:**\n",
        "<br><br><br><br><br><br><br><br>"
      ]
    },
    {
      "cell_type": "markdown",
      "metadata": {
        "id": "Jx5RP6hgug6j"
      },
      "source": [
        "F. What would a good test look like? Find values for \n",
        "$$\n",
        "p(A|B,I)= p(\\text{test is positive} |\\text{has tuberculosis},I),\n",
        "$$\n",
        "and\n",
        "$$\n",
        "p(A| \\neg B, I) = p(\\text{test is positive}|\\text{does not have tuberculosis}, I),\n",
        "$$\n",
        "so that\n",
        "$$\n",
        "p(B|A, I) = p(\\text{has tuberculosis}|\\text{test is positive}, I) = 0.99.\n",
        "$$\n",
        "There are more than one solutions. How would you pick a good one? Thinking in this way can help you set goals if you work in R\\&D. If you have time, try to figure out whether or not there exists such an accurate test for tuberculosis<br>\n",
        "**Answer:**\n",
        "<br><br><br><br><br><br><br><br>"
      ]
    }
  ]
}